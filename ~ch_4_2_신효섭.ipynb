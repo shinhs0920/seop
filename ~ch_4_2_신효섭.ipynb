{
  "nbformat": 4,
  "nbformat_minor": 0,
  "metadata": {
    "kernelspec": {
      "display_name": "Python 3",
      "language": "python",
      "name": "python3"
    },
    "language_info": {
      "codemirror_mode": {
        "name": "ipython",
        "version": 3
      },
      "file_extension": ".py",
      "mimetype": "text/x-python",
      "name": "python",
      "nbconvert_exporter": "python",
      "pygments_lexer": "ipython3",
      "version": "3.7.3"
    },
    "colab": {
      "name": "~ch.4.2 신효섭.ipynb",
      "version": "0.3.2",
      "provenance": [],
      "collapsed_sections": [],
      "include_colab_link": true
    }
  },
  "cells": [
    {
      "cell_type": "markdown",
      "metadata": {
        "id": "view-in-github",
        "colab_type": "text"
      },
      "source": [
        "<a href=\"https://colab.research.google.com/github/shinhs0920/seop/blob/master/~ch_4_2_%EC%8B%A0%ED%9A%A8%EC%84%AD.ipynb\" target=\"_parent\"><img src=\"https://colab.research.google.com/assets/colab-badge.svg\" alt=\"Open In Colab\"/></a>"
      ]
    },
    {
      "cell_type": "markdown",
      "metadata": {
        "id": "ATCNBjBMCvxT",
        "colab_type": "text"
      },
      "source": [
        "https://github.com/shinhs0920/seop/blob/master/~ch_4_2_%EC%8B%A0%ED%9A%A8%EC%84%AD.ipynb"
      ]
    },
    {
      "cell_type": "code",
      "metadata": {
        "id": "bsEZ7-eQ8oXH",
        "colab_type": "code",
        "outputId": "a60e02a6-89e9-45e7-fad7-1297eacbe2d2",
        "colab": {}
      },
      "source": [
        "import numpy as np\n",
        "y=[0.1,0.05,0.6,0.0,0.05,0.1,0.0,0.1,0.0,0.0]\n",
        "t=[0,0,1,0,0,0,0,0,0,0]\n",
        "def mean_squared_error(y, t):\n",
        "    return 0.5*np.sum((y-t)**2)\n",
        "y=[0.1,0.05,0.6,0.0,0.05,0.1,0.0,0.1,0.0,0.0]\n",
        "t=[0,0,1,0,0,0,0,0,0,0]\n",
        "mean_squared_error(np.array(y),np.array(t))"
      ],
      "execution_count": 0,
      "outputs": [
        {
          "output_type": "execute_result",
          "data": {
            "text/plain": [
              "0.09750000000000003"
            ]
          },
          "metadata": {
            "tags": []
          },
          "execution_count": 23
        }
      ]
    },
    {
      "cell_type": "code",
      "metadata": {
        "id": "qZMrin2Y8oXS",
        "colab_type": "code",
        "outputId": "f62896ed-2239-4aaf-f9cb-badacb95b51f",
        "colab": {}
      },
      "source": [
        "import numpy as np\n",
        "y=[0.1,0.05,0.6,0.0,0.05,0.1,0.0,0.1,0.0,0.0]\n",
        "t=[0,0,1,0,0,0,0,0,0,0]\n",
        "def mean_squared_error(y, t):\n",
        "    return 0.5*np.sum((y-t)**2)\n",
        "y=[0.1,0.05,0.1,0.0,0.05,0.1,0.0,0.6,0.0,0.0]\n",
        "t=[0,0,1,0,0,0,0,0,0,0]\n",
        "mean_squared_error(np.array(y),np.array(t))"
      ],
      "execution_count": 0,
      "outputs": [
        {
          "output_type": "execute_result",
          "data": {
            "text/plain": [
              "0.5975"
            ]
          },
          "metadata": {
            "tags": []
          },
          "execution_count": 24
        }
      ]
    },
    {
      "cell_type": "code",
      "metadata": {
        "id": "kVteNNfn8oXY",
        "colab_type": "code",
        "outputId": "87234fc0-e841-4717-e126-9b27a5a0d1e0",
        "colab": {}
      },
      "source": [
        "import numpy as np\n",
        "def cross_entropy_error(y,t):\n",
        "    delta=1e-7\n",
        "    return -np.sum(t*np.log(y+delta))\n",
        "t=[0,0,1,0,0,0,0,0,0,0]\n",
        "y=[0.1,0.05,0.6,0.0,0.05,0.1,0.0,0.1,0.0,0.0]\n",
        "cross_entropy_error(np.array(y), np.array(t))"
      ],
      "execution_count": 0,
      "outputs": [
        {
          "output_type": "execute_result",
          "data": {
            "text/plain": [
              "0.510825457099338"
            ]
          },
          "metadata": {
            "tags": []
          },
          "execution_count": 35
        }
      ]
    },
    {
      "cell_type": "code",
      "metadata": {
        "id": "oRYZmYOP8oXe",
        "colab_type": "code",
        "outputId": "27ad347d-c8b7-405e-8494-5971d9726e72",
        "colab": {}
      },
      "source": [
        "import numpy as np\n",
        "def cross_entropy_error(y,t):\n",
        "    delta=1e-7\n",
        "    return -np.sum(t*np.log(y+delta))\n",
        "t=[0,0,1,0,0,0,0,0,0,0]\n",
        "y=[0.1,0.05,0.1,0.0,0.05,0.1,0.0,0.6,0.0,0.0]\n",
        "cross_entropy_error(np.array(y), np.array(t))"
      ],
      "execution_count": 0,
      "outputs": [
        {
          "output_type": "execute_result",
          "data": {
            "text/plain": [
              "2.302584092994546"
            ]
          },
          "metadata": {
            "tags": []
          },
          "execution_count": 36
        }
      ]
    },
    {
      "cell_type": "code",
      "metadata": {
        "id": "WL18CHAq8oXn",
        "colab_type": "code",
        "outputId": "aa2c87a9-4f5c-4cfa-fbaa-8b03ae6013a3",
        "colab": {}
      },
      "source": [
        "import sys,os\n",
        "sys.path.append(os.pardir)\n",
        "import numpy as np\n",
        "from dataset.mnist import load_mnist\n",
        "(x_train,t_train),(x_test, t_test)=\\\n",
        "load_mnist(normalize=True, one_hot_label=True)\n",
        "\n",
        "print(x_train.shape)\n",
        "print(t_train.shape)"
      ],
      "execution_count": 0,
      "outputs": [
        {
          "output_type": "stream",
          "text": [
            "(60000, 784)\n",
            "(60000, 10)\n"
          ],
          "name": "stdout"
        }
      ]
    },
    {
      "cell_type": "code",
      "metadata": {
        "id": "GYqkWXNm8oXt",
        "colab_type": "code",
        "outputId": "8239cbd7-652e-438b-9acf-23ef5118fd9c",
        "colab": {}
      },
      "source": [
        "train_size=x_train.shape[0]\n",
        "batch_size=10\n",
        "batch_mask=np.random.choice(train_size,batch_size)\n",
        "x_batch=x_train[batch_mask]\n",
        "t_batch=t_train[batch_mask]\n",
        "np.random.choice(60000,10)"
      ],
      "execution_count": 0,
      "outputs": [
        {
          "output_type": "execute_result",
          "data": {
            "text/plain": [
              "array([56023,   395, 39065, 28856, 53542,  6496, 47072, 33638, 55328,\n",
              "       54387])"
            ]
          },
          "metadata": {
            "tags": []
          },
          "execution_count": 53
        }
      ]
    },
    {
      "cell_type": "code",
      "metadata": {
        "id": "_Dq3rnqm8oX1",
        "colab_type": "code",
        "colab": {}
      },
      "source": [
        "def cross_entropy_error(y,t):\n",
        "    if y.ndim==1:\n",
        "        t=t.reshape(1,t.size)\n",
        "        y=y.reshape(1,y.size)\n",
        "    \n",
        "    batch_size=y.shape[0]\n",
        "    return -np.sum(t*np.log(y+1e-7))/batch_size"
      ],
      "execution_count": 0,
      "outputs": []
    },
    {
      "cell_type": "code",
      "metadata": {
        "id": "Vh8XklRI8oX5",
        "colab_type": "code",
        "colab": {}
      },
      "source": [
        "def cross_entropy_error(y,t):\n",
        "    if y.ndim==1:\n",
        "        t=t.reshape(1,t.size)\n",
        "        y=y.reshape(1,y.size)\n",
        "    batch_size=y.shape[0]\n",
        "    return -np.sum(np.log(y[np.arrange(batch_size),t]+1e-7))/batch_size"
      ],
      "execution_count": 0,
      "outputs": []
    }
  ]
}