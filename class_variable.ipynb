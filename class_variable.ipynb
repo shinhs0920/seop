{
  "nbformat": 4,
  "nbformat_minor": 0,
  "metadata": {
    "colab": {
      "name": "class variable.ipynb",
      "provenance": [],
      "collapsed_sections": [],
      "include_colab_link": true
    },
    "kernelspec": {
      "name": "python3",
      "display_name": "Python 3"
    }
  },
  "cells": [
    {
      "cell_type": "markdown",
      "metadata": {
        "id": "view-in-github",
        "colab_type": "text"
      },
      "source": [
        "<a href=\"https://colab.research.google.com/github/shinhs0920/seop/blob/master/class_variable.ipynb\" target=\"_parent\"><img src=\"https://colab.research.google.com/assets/colab-badge.svg\" alt=\"Open In Colab\"/></a>"
      ]
    },
    {
      "cell_type": "markdown",
      "metadata": {
        "id": "c9fziELBpSqZ",
        "colab_type": "text"
      },
      "source": [
        "Family라는 Class를 지정한다.\n",
        "그리고 클래스 변수로 lastname을 설정하고 이를 '김'이라고 칭한다."
      ]
    },
    {
      "cell_type": "code",
      "metadata": {
        "id": "rkR64N4jNi8Q",
        "colab_type": "code",
        "colab": {}
      },
      "source": [
        "class Family:\n",
        "  lastname=\"김\""
      ],
      "execution_count": 0,
      "outputs": []
    },
    {
      "cell_type": "markdown",
      "metadata": {
        "id": "ITDfRyNapbdP",
        "colab_type": "text"
      },
      "source": [
        "실행은 (클래스명).(클래스 변수) 형태로 클래스 변수 명을 확인할 수 있다"
      ]
    },
    {
      "cell_type": "code",
      "metadata": {
        "id": "D81EqnllNk8y",
        "colab_type": "code",
        "colab": {
          "base_uri": "https://localhost:8080/",
          "height": 34
        },
        "outputId": "132fadeb-d8a9-4980-8bdd-33b7621e1252"
      },
      "source": [
        "Family.lastname"
      ],
      "execution_count": 2,
      "outputs": [
        {
          "output_type": "execute_result",
          "data": {
            "text/plain": [
              "'김'"
            ]
          },
          "metadata": {
            "tags": []
          },
          "execution_count": 2
        }
      ]
    },
    {
      "cell_type": "markdown",
      "metadata": {
        "id": "QRmt85-EpkBu",
        "colab_type": "text"
      },
      "source": [
        "클래스 변수의 객체이자 인스턴스 변수인 c1,c2를 다음과 같이 클래스 및 클래스 변수에 속하도록 설정한다."
      ]
    },
    {
      "cell_type": "code",
      "metadata": {
        "id": "VQJVw6fsNnOU",
        "colab_type": "code",
        "colab": {}
      },
      "source": [
        "c1=Family()"
      ],
      "execution_count": 0,
      "outputs": []
    },
    {
      "cell_type": "code",
      "metadata": {
        "id": "1gk2Yc_5NobO",
        "colab_type": "code",
        "colab": {
          "base_uri": "https://localhost:8080/",
          "height": 34
        },
        "outputId": "025f15f5-15fc-4402-a587-e5f65917d7f3"
      },
      "source": [
        "c1.lastname"
      ],
      "execution_count": 4,
      "outputs": [
        {
          "output_type": "execute_result",
          "data": {
            "text/plain": [
              "'김'"
            ]
          },
          "metadata": {
            "tags": []
          },
          "execution_count": 4
        }
      ]
    },
    {
      "cell_type": "code",
      "metadata": {
        "id": "J6ezCn1bNqEY",
        "colab_type": "code",
        "colab": {}
      },
      "source": [
        "c2=Family()"
      ],
      "execution_count": 0,
      "outputs": []
    },
    {
      "cell_type": "code",
      "metadata": {
        "id": "CYsWU6q3NqmB",
        "colab_type": "code",
        "colab": {
          "base_uri": "https://localhost:8080/",
          "height": 34
        },
        "outputId": "49f00f31-195d-4c3d-dcec-8b918cb25baf"
      },
      "source": [
        "c2.lastname"
      ],
      "execution_count": 21,
      "outputs": [
        {
          "output_type": "execute_result",
          "data": {
            "text/plain": [
              "'김'"
            ]
          },
          "metadata": {
            "tags": []
          },
          "execution_count": 21
        }
      ]
    },
    {
      "cell_type": "markdown",
      "metadata": {
        "id": "vcBWCXTapuOn",
        "colab_type": "text"
      },
      "source": [
        "위 실행 결과 c1,c2는 같은 클래스 변수에 속하며 따라서 같은 값을 갖는다"
      ]
    },
    {
      "cell_type": "code",
      "metadata": {
        "id": "EguU20LiNrwT",
        "colab_type": "code",
        "colab": {
          "base_uri": "https://localhost:8080/",
          "height": 34
        },
        "outputId": "ffbc397d-15c5-4460-8a00-61d9c4be6107"
      },
      "source": [
        "id(Family.lastname)"
      ],
      "execution_count": 22,
      "outputs": [
        {
          "output_type": "execute_result",
          "data": {
            "text/plain": [
              "140008948953216"
            ]
          },
          "metadata": {
            "tags": []
          },
          "execution_count": 22
        }
      ]
    },
    {
      "cell_type": "code",
      "metadata": {
        "id": "2mHYU8-UN4xJ",
        "colab_type": "code",
        "colab": {
          "base_uri": "https://localhost:8080/",
          "height": 34
        },
        "outputId": "6e32f1e5-fc48-4b64-cd86-124dcee9b705"
      },
      "source": [
        "id(c1.lastname)"
      ],
      "execution_count": 23,
      "outputs": [
        {
          "output_type": "execute_result",
          "data": {
            "text/plain": [
              "140008948953216"
            ]
          },
          "metadata": {
            "tags": []
          },
          "execution_count": 23
        }
      ]
    },
    {
      "cell_type": "code",
      "metadata": {
        "id": "NZ9LyM3VN8xQ",
        "colab_type": "code",
        "colab": {
          "base_uri": "https://localhost:8080/",
          "height": 34
        },
        "outputId": "194f24f2-2b85-40d6-b804-18790991b4f2"
      },
      "source": [
        "id(c2.lastname)"
      ],
      "execution_count": 24,
      "outputs": [
        {
          "output_type": "execute_result",
          "data": {
            "text/plain": [
              "140008948953216"
            ]
          },
          "metadata": {
            "tags": []
          },
          "execution_count": 24
        }
      ]
    },
    {
      "cell_type": "markdown",
      "metadata": {
        "id": "siJ9GWc_qSh3",
        "colab_type": "text"
      },
      "source": [
        "위 상황에서는 클래스 변수, 객체들 모두 다 같은 주소(id)를 가리키는 것을 확인할 수 있다."
      ]
    },
    {
      "cell_type": "markdown",
      "metadata": {
        "id": "ThLLZzdYp9wM",
        "colab_type": "text"
      },
      "source": [
        "그렇다면, 클래스 변수의 값을 변경해 보자"
      ]
    },
    {
      "cell_type": "code",
      "metadata": {
        "id": "WehdxuEjqCy-",
        "colab_type": "code",
        "colab": {}
      },
      "source": [
        "Family.lastname='박'"
      ],
      "execution_count": 0,
      "outputs": []
    },
    {
      "cell_type": "code",
      "metadata": {
        "id": "bV9oQWsaqqlD",
        "colab_type": "code",
        "colab": {
          "base_uri": "https://localhost:8080/",
          "height": 34
        },
        "outputId": "2225bfcf-b615-40df-fe4c-d3f30f2d3e83"
      },
      "source": [
        "Family.lastname"
      ],
      "execution_count": 27,
      "outputs": [
        {
          "output_type": "execute_result",
          "data": {
            "text/plain": [
              "'박'"
            ]
          },
          "metadata": {
            "tags": []
          },
          "execution_count": 27
        }
      ]
    },
    {
      "cell_type": "code",
      "metadata": {
        "id": "8pAbdLrpqtM1",
        "colab_type": "code",
        "colab": {
          "base_uri": "https://localhost:8080/",
          "height": 34
        },
        "outputId": "c06cd4b8-d0f9-4197-c185-412dd7612f82"
      },
      "source": [
        "c1.lastname"
      ],
      "execution_count": 28,
      "outputs": [
        {
          "output_type": "execute_result",
          "data": {
            "text/plain": [
              "'박'"
            ]
          },
          "metadata": {
            "tags": []
          },
          "execution_count": 28
        }
      ]
    },
    {
      "cell_type": "code",
      "metadata": {
        "id": "gIZmL7ubqtPh",
        "colab_type": "code",
        "colab": {
          "base_uri": "https://localhost:8080/",
          "height": 34
        },
        "outputId": "7a1d7cd4-0dcf-4e87-ded0-2b6b2895a226"
      },
      "source": [
        "c2.lastname"
      ],
      "execution_count": 29,
      "outputs": [
        {
          "output_type": "execute_result",
          "data": {
            "text/plain": [
              "'박'"
            ]
          },
          "metadata": {
            "tags": []
          },
          "execution_count": 29
        }
      ]
    },
    {
      "cell_type": "markdown",
      "metadata": {
        "id": "aP247IJmNtA-",
        "colab_type": "text"
      },
      "source": [
        "클래스 변수 값을 변경했더니, 클래스로 만든 객체의 lastname 값도 모두 변경되었다. \n",
        "<br>즉, 클래스 변수는 클래스로 만든 모든 객체에 공유되는 특징이다"
      ]
    },
    {
      "cell_type": "code",
      "metadata": {
        "id": "7Jy6U31LrBiT",
        "colab_type": "code",
        "colab": {
          "base_uri": "https://localhost:8080/",
          "height": 34
        },
        "outputId": "7785cd99-f257-477f-b97a-9aa9dced56eb"
      },
      "source": [
        "id(Family.lastname)"
      ],
      "execution_count": 30,
      "outputs": [
        {
          "output_type": "execute_result",
          "data": {
            "text/plain": [
              "140008949031280"
            ]
          },
          "metadata": {
            "tags": []
          },
          "execution_count": 30
        }
      ]
    },
    {
      "cell_type": "code",
      "metadata": {
        "id": "oaSiXj06rBnS",
        "colab_type": "code",
        "colab": {
          "base_uri": "https://localhost:8080/",
          "height": 34
        },
        "outputId": "c4a86716-5561-4f5c-d832-cc9f3beb0a8b"
      },
      "source": [
        "id(c1.lastname)"
      ],
      "execution_count": 31,
      "outputs": [
        {
          "output_type": "execute_result",
          "data": {
            "text/plain": [
              "140008949031280"
            ]
          },
          "metadata": {
            "tags": []
          },
          "execution_count": 31
        }
      ]
    },
    {
      "cell_type": "code",
      "metadata": {
        "id": "J3DSZ_lRrBlv",
        "colab_type": "code",
        "colab": {
          "base_uri": "https://localhost:8080/",
          "height": 34
        },
        "outputId": "e21d8caa-c6cf-4748-e8ad-44a262c5f38b"
      },
      "source": [
        "id(c2.lastname)"
      ],
      "execution_count": 32,
      "outputs": [
        {
          "output_type": "execute_result",
          "data": {
            "text/plain": [
              "140008949031280"
            ]
          },
          "metadata": {
            "tags": []
          },
          "execution_count": 32
        }
      ]
    },
    {
      "cell_type": "markdown",
      "metadata": {
        "id": "6AP_PxrpOAql",
        "colab_type": "text"
      },
      "source": [
        "주소(id)값 역시 새로 지정되며 모두 같은 주소를 새로 가르킨다.\n",
        "<br> 즉, Family.lastname, c1.lastname, c2.lastname은 모두 새로운 같은 메모리를 가리키고 있다."
      ]
    },
    {
      "cell_type": "markdown",
      "metadata": {
        "id": "dURZWDI4rYCK",
        "colab_type": "text"
      },
      "source": [
        "이번에는 클래스 변수가 아닌 객체(인스턴스 변수)하나를 바꿔보자"
      ]
    },
    {
      "cell_type": "code",
      "metadata": {
        "id": "l6EPI0NaN-ch",
        "colab_type": "code",
        "colab": {}
      },
      "source": [
        "c2.lastname='신'"
      ],
      "execution_count": 0,
      "outputs": []
    },
    {
      "cell_type": "code",
      "metadata": {
        "id": "D4asqefYn3n1",
        "colab_type": "code",
        "colab": {
          "base_uri": "https://localhost:8080/",
          "height": 34
        },
        "outputId": "3c1e560b-55ed-49f6-93bf-c8e13153a1d1"
      },
      "source": [
        "c2.lastname"
      ],
      "execution_count": 37,
      "outputs": [
        {
          "output_type": "execute_result",
          "data": {
            "text/plain": [
              "'신'"
            ]
          },
          "metadata": {
            "tags": []
          },
          "execution_count": 37
        }
      ]
    },
    {
      "cell_type": "code",
      "metadata": {
        "id": "nmoGLJV3n40t",
        "colab_type": "code",
        "colab": {
          "base_uri": "https://localhost:8080/",
          "height": 34
        },
        "outputId": "163019e4-6baa-4755-825c-134b5907684b"
      },
      "source": [
        "c1.lastname"
      ],
      "execution_count": 38,
      "outputs": [
        {
          "output_type": "execute_result",
          "data": {
            "text/plain": [
              "'박'"
            ]
          },
          "metadata": {
            "tags": []
          },
          "execution_count": 38
        }
      ]
    },
    {
      "cell_type": "code",
      "metadata": {
        "id": "kK4MsZrSriRU",
        "colab_type": "code",
        "colab": {
          "base_uri": "https://localhost:8080/",
          "height": 34
        },
        "outputId": "f0b48acb-f338-408c-fad8-5fa72bd78255"
      },
      "source": [
        "Family.lastname"
      ],
      "execution_count": 39,
      "outputs": [
        {
          "output_type": "execute_result",
          "data": {
            "text/plain": [
              "'박'"
            ]
          },
          "metadata": {
            "tags": []
          },
          "execution_count": 39
        }
      ]
    },
    {
      "cell_type": "markdown",
      "metadata": {
        "id": "DQ7lIq6Yrkw6",
        "colab_type": "text"
      },
      "source": [
        "이처럼 클래스 변수와 c2를 제외한 나머지 객체들은 변하지 않고 c2만 변함을 볼 수 있다"
      ]
    },
    {
      "cell_type": "markdown",
      "metadata": {
        "id": "ffH7_KxWrr7E",
        "colab_type": "text"
      },
      "source": [
        "주소(id)는 어떨까"
      ]
    },
    {
      "cell_type": "code",
      "metadata": {
        "id": "0JOBcYIJrrB-",
        "colab_type": "code",
        "colab": {
          "base_uri": "https://localhost:8080/",
          "height": 34
        },
        "outputId": "3f165e8d-014c-43f3-f3b0-dc5521589ce8"
      },
      "source": [
        "id(c1.lastname)"
      ],
      "execution_count": 40,
      "outputs": [
        {
          "output_type": "execute_result",
          "data": {
            "text/plain": [
              "140008949031280"
            ]
          },
          "metadata": {
            "tags": []
          },
          "execution_count": 40
        }
      ]
    },
    {
      "cell_type": "code",
      "metadata": {
        "id": "4R-ANtqHrkWn",
        "colab_type": "code",
        "colab": {
          "base_uri": "https://localhost:8080/",
          "height": 34
        },
        "outputId": "f56e2ead-0450-4805-b1b3-970c8652ad80"
      },
      "source": [
        "id(c2.lastname)"
      ],
      "execution_count": 41,
      "outputs": [
        {
          "output_type": "execute_result",
          "data": {
            "text/plain": [
              "140008949034560"
            ]
          },
          "metadata": {
            "tags": []
          },
          "execution_count": 41
        }
      ]
    },
    {
      "cell_type": "code",
      "metadata": {
        "id": "Hnsg0mbzryLo",
        "colab_type": "code",
        "colab": {
          "base_uri": "https://localhost:8080/",
          "height": 34
        },
        "outputId": "66dc4617-2c58-4dbd-8c17-9a36d947838a"
      },
      "source": [
        "id(Family.lastname)"
      ],
      "execution_count": 42,
      "outputs": [
        {
          "output_type": "execute_result",
          "data": {
            "text/plain": [
              "140008949031280"
            ]
          },
          "metadata": {
            "tags": []
          },
          "execution_count": 42
        }
      ]
    },
    {
      "cell_type": "markdown",
      "metadata": {
        "id": "TQ-etgO0r5yE",
        "colab_type": "text"
      },
      "source": [
        "주소(id) 역시 c2만 변하였다. 왜 이런 현상이 발생하였는가?\n",
        "<br>왜 다른 객체 및 클래스 변수는 바뀌지 않았는가?"
      ]
    },
    {
      "cell_type": "markdown",
      "metadata": {
        "id": "PJ-KM5Oeoow8",
        "colab_type": "text"
      },
      "source": [
        "-> 클래스 변수는 한 클래스의 모든 인스턴스들이 공통적인 값을 가져야할 때 클래스 변수로 선언한다.\n",
        "<br> 따라서, 클래스 변수의 모든 인스턴스들은 같은 저장공간을 가진다.\n",
        "<br> 하지만 새로 바꾼 c2는 나머지 인스턴스 및 클래스 변수과 다른 값을 가지므로 더이상 클래스 변수의 객체가 아니다.\n",
        "<br> 이제 c2는 클래스에 속하지 않는 새로운 독립적인 인스턴스 변수일 뿐이다."
      ]
    },
    {
      "cell_type": "markdown",
      "metadata": {
        "id": "slcqKgumozVN",
        "colab_type": "text"
      },
      "source": [
        "-> 인스턴스 변수는 각 인스턴스마다 독립적인 저장공간을 갖으므로 c1과 c2는 다른 저장공간(주소)를 갖게 되고 당연히 c1이 속한 클래스 변수또한 c2와 다른 저장공간을 갖는다."
      ]
    }
  ]
}